{
 "cells": [
  {
   "cell_type": "markdown",
   "id": "e1fd4a2f-2763-4de4-8e1d-82d729f2fccc",
   "metadata": {},
   "source": [
    "# Analysis of Tweets from a full archival search"
   ]
  },
  {
   "cell_type": "code",
   "execution_count": 25,
   "id": "2736377a-a81c-49c9-a017-5d9492682620",
   "metadata": {},
   "outputs": [],
   "source": [
    "import pandas as pd\n",
    "from os.path import join\n",
    "import numpy as np"
   ]
  },
  {
   "cell_type": "code",
   "execution_count": 5,
   "id": "f455d354-c78f-4a79-a1eb-177a992ee719",
   "metadata": {},
   "outputs": [],
   "source": [
    "src = '../data'\n",
    "hashtags = ['WissZeitVG', 'FristIstFrust', '95vsWissZeitVG', 'IchBinHannah']"
   ]
  },
  {
   "cell_type": "markdown",
   "id": "3e79a755-e2a4-4bdd-b652-9cddf196732b",
   "metadata": {},
   "source": [
    "Note: if the Tweets have already been downloaded and the Tweet data exists in the folder ```data``` as compressed ```.jsonl``` files, you can skip the \"Query tweets\" and \"Compress data\" steps and start processing at \"Decompress data\"."
   ]
  },
  {
   "cell_type": "markdown",
   "id": "227aa378-1936-456a-8e1d-f65752baf6ab",
   "metadata": {},
   "source": [
    "## Collect Tweets"
   ]
  },
  {
   "cell_type": "markdown",
   "id": "298c350c-ff12-443e-b27f-ca243fe795cd",
   "metadata": {},
   "source": [
    "### Query tweets"
   ]
  },
  {
   "cell_type": "markdown",
   "id": "f55e8dcc-f990-48f8-895c-4b9d4d2ab179",
   "metadata": {},
   "source": [
    "Note: the queries are saved in separate files. I do this to make the data collection process reproducible by saving the exact query parameters for every data file."
   ]
  },
  {
   "cell_type": "code",
   "execution_count": null,
   "id": "9daf2e0f-6b79-4d96-9608-edb49ff5ef75",
   "metadata": {},
   "outputs": [],
   "source": [
    "# change file permissions such that execution is allowed\n",
    "! chmod +x ./queries/video_url.sh\n",
    "# run the query. Note: this can take a while, depending on the number of Tweets\n",
    "# that need to be downloaded\n",
    "! ./queries/video_url.sh"
   ]
  },
  {
   "cell_type": "code",
   "execution_count": 226,
   "id": "f61fb07f-d731-4e37-a566-5e1adb454027",
   "metadata": {},
   "outputs": [],
   "source": [
    "! chmod +x ./queries/95vsWissZeitVG.sh\n",
    "! ./queries/95vsWissZeitVG.sh"
   ]
  },
  {
   "cell_type": "code",
   "execution_count": 226,
   "id": "0271ec95-30ce-4a58-a264-f00643ffd3d1",
   "metadata": {},
   "outputs": [],
   "source": [
    "! chmod +x ./queries/FristIstFrust.sh\n",
    "! ./queries/FristIstFrust.sh"
   ]
  },
  {
   "cell_type": "code",
   "execution_count": 226,
   "id": "796eb355-b347-41a0-b649-23b5be8eeae9",
   "metadata": {},
   "outputs": [],
   "source": [
    "! chmod +x ./queries/WissZeitVG.sh\n",
    "! ./queries/WissZeitVG.sh"
   ]
  },
  {
   "cell_type": "code",
   "execution_count": 271,
   "id": "2b69f1cd-52cf-4270-a5e9-dfe09be62efa",
   "metadata": {},
   "outputs": [],
   "source": [
    "# note: the more prevalent hashtag is \"#IchBinHanna\" (without the \"h\" at the end)\n",
    "# the query for \"#IchBinHannah\" (and it's variants) includes the variant without\n",
    "# the \"h\", since it's a substring.\n",
    "! chmod +x ./queries/IchBinHannah.sh\n",
    "! ./queries/IchBinHannah.sh"
   ]
  },
  {
   "cell_type": "markdown",
   "id": "b08b6cc4-55c3-49c1-8dcf-41389f5c28cf",
   "metadata": {},
   "source": [
    "### Compress data"
   ]
  },
  {
   "cell_type": "markdown",
   "id": "5dbabbb6-1522-4898-b830-0f27ec68ba32",
   "metadata": {},
   "source": [
    "Note: under windows, .xz files can be decompressed for examply with [WinZIP](https://www.winzip.com/win/en/xz-file.html)."
   ]
  },
  {
   "cell_type": "code",
   "execution_count": null,
   "id": "9e823702-74c6-4c93-996c-74c6809e973d",
   "metadata": {},
   "outputs": [],
   "source": [
    "# the parameter \"-k\" keeps the original file\n",
    "! xz -k ../data/95vsWissZeitVG.jsonl\n",
    "! xz -k ../data/FristIstFrust.jsonl\n",
    "! xz -k ../data/WissZeitVG.jsonl\n",
    "! xz -k ../data/IchBinHannah.jsonl\n",
    "! xz -k ../data/video_url.jsonl"
   ]
  },
  {
   "cell_type": "markdown",
   "id": "2aa07f31-bcb5-4df2-b5a7-1701b214b40b",
   "metadata": {},
   "source": [
    "### Decompress data"
   ]
  },
  {
   "cell_type": "code",
   "execution_count": null,
   "id": "a12108e2-0082-4ba5-b60f-70791ea6698d",
   "metadata": {},
   "outputs": [],
   "source": [
    "! xz -d ../data/95vsWissZeitVG.jsonl.xz\n",
    "! xz -d ../data/FristIstFrust.jsonl.xz\n",
    "! xz -d ../data/WissZeitVG.jsonl.xz\n",
    "! xz -d ../data/IchBinHannah.jsonl.xz\n",
    "! xz -d ../data/video_url.jsonl.xz"
   ]
  },
  {
   "cell_type": "markdown",
   "id": "abef9fe9-e194-436d-931f-4ee765ebe7f3",
   "metadata": {},
   "source": [
    "### Convert to CSV"
   ]
  },
  {
   "cell_type": "markdown",
   "id": "ae77deef-3515-4291-aa48-cdfffa3da77b",
   "metadata": {},
   "source": [
    "Removes duplicate tweets (by ID) but keeps referenced tweets."
   ]
  },
  {
   "cell_type": "code",
   "execution_count": 42,
   "id": "376f5e7e-1d2a-4008-b7c2-4f36cd0fc4a5",
   "metadata": {},
   "outputs": [
    {
     "name": "stdout",
     "output_type": "stream",
     "text": [
      "100%|██████████████████████████████████████| 38.0M/38.0M [00:09<00:00, 4.12MB/s]\n",
      "\n",
      "ℹ️\n",
      "Read 40193 tweets from 43 lines. \n",
      "18770 were referenced tweets, 18192 were duplicates.\n",
      "Wrote 22001 rows and output 89 of 89 input columns in the CSV.\n",
      "\n"
     ]
    }
   ],
   "source": [
    "! twarc2 csv ../data/IchBinHannah.jsonl ../data/IchBinHannah.csv"
   ]
  },
  {
   "cell_type": "code",
   "execution_count": 40,
   "id": "4cd82f52-3c12-4315-ace9-6ce5855d80f6",
   "metadata": {},
   "outputs": [
    {
     "name": "stdout",
     "output_type": "stream",
     "text": [
      "100%|██████████████████████████████████████| 19.4M/19.4M [00:06<00:00, 3.12MB/s]\n",
      "\n",
      "ℹ️\n",
      "Read 25382 tweets from 27 lines. \n",
      "12315 were referenced tweets, 11555 were duplicates.\n",
      "Wrote 13827 rows and output 89 of 89 input columns in the CSV.\n",
      "\n"
     ]
    }
   ],
   "source": [
    "! twarc2 csv ../data/95vsWissZeitVG.jsonl ../data/95vsWissZeitVG.csv"
   ]
  },
  {
   "cell_type": "code",
   "execution_count": 41,
   "id": "e2606cec-1355-42df-bb11-59da7a2699c7",
   "metadata": {},
   "outputs": [
    {
     "name": "stdout",
     "output_type": "stream",
     "text": [
      "100%|██████████████████████████████████████| 22.4M/22.4M [00:07<00:00, 3.13MB/s]\n",
      "\n",
      "ℹ️\n",
      "Read 27442 tweets from 29 lines. \n",
      "13034 were referenced tweets, 11760 were duplicates.\n",
      "Wrote 15682 rows and output 89 of 89 input columns in the CSV.\n",
      "\n"
     ]
    }
   ],
   "source": [
    "! twarc2 csv ../data/FristIstFrust.jsonl ../data/FristIstFrust.csv"
   ]
  },
  {
   "cell_type": "code",
   "execution_count": 43,
   "id": "8af282d0-7422-4403-9bdf-b3d4b4cf42f2",
   "metadata": {},
   "outputs": [
    {
     "name": "stdout",
     "output_type": "stream",
     "text": [
      "100%|██████████████████████████████████████| 2.17M/2.17M [00:00<00:00, 3.73MB/s]\n",
      "\n",
      "ℹ️\n",
      "Read 2698 tweets from 3 lines. \n",
      "1309 were referenced tweets, 1265 were duplicates.\n",
      "Wrote 1433 rows and output 89 of 89 input columns in the CSV.\n",
      "\n"
     ]
    }
   ],
   "source": [
    "! twarc2 csv ../data/video_url.jsonl ../data/video_url.csv"
   ]
  },
  {
   "cell_type": "code",
   "execution_count": 58,
   "id": "5ba94407-c220-48f2-816b-874d8cece76b",
   "metadata": {},
   "outputs": [
    {
     "name": "stdout",
     "output_type": "stream",
     "text": [
      "100%|██████████████████████████████████████| 14.8M/14.8M [00:04<00:00, 3.37MB/s]\n",
      "\n",
      "ℹ️\n",
      "Read 17386 tweets from 19 lines. \n",
      "8355 were referenced tweets, 7584 were duplicates.\n",
      "Wrote 9802 rows and output 89 of 89 input columns in the CSV.\n",
      "\n"
     ]
    }
   ],
   "source": [
    "! twarc2 csv ../data/WissZeigVG.jsonl ../data/WissZeigVG.csv"
   ]
  },
  {
   "cell_type": "markdown",
   "id": "956007ae-e9f7-42d8-b10b-1b6508623586",
   "metadata": {},
   "source": [
    "## Extract conversation IDs"
   ]
  },
  {
   "cell_type": "code",
   "execution_count": 232,
   "id": "771faa23-5d95-4907-be7e-f10963332a30",
   "metadata": {},
   "outputs": [],
   "source": [
    "def get_conversation_IDs(src, filename, chunks=False, chunksize=1000):\n",
    "    data = pd.read_csv(join(src, '{}.csv'.format(filename)), low_memory=False)\n",
    "    conversationIDs = data['conversation_id'].dropna().astype(int).unique()\n",
    "    print('{}: There are {} Tweets from {} conversations'\\\n",
    "              .format(filename, len(data), len(conversationIDs)))\n",
    "    \n",
    "    dst = join(src, 'conversation_IDs')\n",
    "    \n",
    "    if chunks:\n",
    "        N_chunks = len(conversationIDs) // chunksize\n",
    "        print(N_chunks)\n",
    "        for i in range(N_chunks):\n",
    "            ID_chunk = conversationIDs[i * chunksize : (i + 1) * chunksize]\n",
    "            np.savetxt(join(dst, '{}_ConversationIDs_{}_to_{}.txt'\\\n",
    "                .format(filename, i * chunksize, (i + 1) * chunksize)),\n",
    "                ID_chunk, fmt='%d')\n",
    "        np.savetxt(join(dst, '{}_ConversationIDs_{}_to_{}.txt'\\\n",
    "                .format(filename, N_chunks * chunksize, len(conversationIDs))),\n",
    "                conversationIDs[N_chunks * chunksize : ], fmt='%d')\n",
    "            \n",
    "    else:   \n",
    "        np.savetxt(join(dst, '{}_ConversationIDs.txt'.format(filename)),\n",
    "                   conversationIDs, fmt='%d')"
   ]
  },
  {
   "cell_type": "code",
   "execution_count": 234,
   "id": "2e76f078-c8ab-4ce5-9a20-4d2eb10b8a05",
   "metadata": {},
   "outputs": [
    {
     "name": "stdout",
     "output_type": "stream",
     "text": [
      "IchBinHannah: There are 22001 Tweets from 20698 conversations\n",
      "2069\n"
     ]
    }
   ],
   "source": [
    "get_conversation_IDs(src, 'IchBinHannah', chunks=True, chunksize=10)"
   ]
  },
  {
   "cell_type": "code",
   "execution_count": 221,
   "id": "617711f6-a767-48b2-87c1-0a492a2f0994",
   "metadata": {},
   "outputs": [
    {
     "name": "stdout",
     "output_type": "stream",
     "text": [
      "FristIstFrust: There are 15682 Tweets from 14802 conversations\n"
     ]
    }
   ],
   "source": [
    "get_conversation_IDs(src, 'FristIstFrust', chunks=True)"
   ]
  },
  {
   "cell_type": "code",
   "execution_count": 222,
   "id": "a0e508ec-a1d3-402d-8f89-d40cb370b429",
   "metadata": {},
   "outputs": [
    {
     "name": "stdout",
     "output_type": "stream",
     "text": [
      "95vsWissZeitVG: There are 13827 Tweets from 13070 conversations\n"
     ]
    }
   ],
   "source": [
    "get_conversation_IDs(src, '95vsWissZeitVG', chunks=True)"
   ]
  },
  {
   "cell_type": "code",
   "execution_count": 223,
   "id": "de574738-6f80-4e53-a857-aefae108f98a",
   "metadata": {},
   "outputs": [
    {
     "name": "stdout",
     "output_type": "stream",
     "text": [
      "WissZeitVG: There are 9802 Tweets from 8923 conversations\n"
     ]
    }
   ],
   "source": [
    "get_conversation_IDs(src, 'WissZeitVG', chunks=True)"
   ]
  },
  {
   "cell_type": "code",
   "execution_count": 224,
   "id": "fae038f0-a889-4b26-bb96-9d058b78d8c4",
   "metadata": {},
   "outputs": [
    {
     "name": "stdout",
     "output_type": "stream",
     "text": [
      "video_url: There are 1433 Tweets from 1388 conversations\n"
     ]
    }
   ],
   "source": [
    "get_conversation_IDs(src, 'video_url')"
   ]
  },
  {
   "cell_type": "markdown",
   "id": "a6f9227a-68a8-404c-b183-87963c9f258d",
   "metadata": {},
   "source": [
    "## Extract Tweet IDs"
   ]
  },
  {
   "cell_type": "code",
   "execution_count": 242,
   "id": "48706ae1-5986-4fb5-b6b0-634ca25b1dbb",
   "metadata": {},
   "outputs": [],
   "source": [
    "def get_Tweet_IDs(src, filename, chunks=False, chunksize=1000):\n",
    "    data = pd.read_csv(join(src, '{}.csv'.format(filename)), low_memory=False)\n",
    "    TweetIDs = data['id'].dropna().astype(int).unique()\n",
    "    print('{}: There are {} Tweets'\\\n",
    "              .format(filename, len(TweetIDs)))\n",
    "    \n",
    "    dst = join(src, 'tweet_IDs')\n",
    "    \n",
    "    if chunks:\n",
    "        N_chunks = len(TweetIDs) // chunksize\n",
    "        print(N_chunks)\n",
    "        for i in range(N_chunks):\n",
    "            ID_chunk = TweetIDs[i * chunksize : (i + 1) * chunksize]\n",
    "            np.savetxt(join(dst, '{}_TweetIDs_{}_to_{}.txt'\\\n",
    "                .format(filename, i * chunksize, (i + 1) * chunksize)),\n",
    "                ID_chunk, fmt='%d')\n",
    "        np.savetxt(join(dst, '{}_TweetIDs_{}_to_{}.txt'\\\n",
    "                .format(filename, N_chunks * chunksize, len(TweetIDs))),\n",
    "                TweetIDs[N_chunks * chunksize : ], fmt='%d')\n",
    "            \n",
    "    else:   \n",
    "        np.savetxt(join(dst, '{}_TweetIDs.txt'.format(filename)),\n",
    "                   TweetIDs, fmt='%d')"
   ]
  },
  {
   "cell_type": "code",
   "execution_count": 246,
   "id": "fa740f1a-7966-4ebb-90a8-e0693836cac3",
   "metadata": {},
   "outputs": [
    {
     "name": "stdout",
     "output_type": "stream",
     "text": [
      "IchBinHannah: There are 22001 Tweets\n"
     ]
    }
   ],
   "source": [
    "get_Tweet_IDs(src, 'IchBinHannah', chunks=False)"
   ]
  },
  {
   "cell_type": "code",
   "execution_count": 244,
   "id": "0396d9ac-dd2a-416d-9034-0e7a4c3644ce",
   "metadata": {},
   "outputs": [
    {
     "name": "stdout",
     "output_type": "stream",
     "text": [
      "FristIstFrust: There are 15682 Tweets\n"
     ]
    }
   ],
   "source": [
    "get_Tweet_IDs(src, 'FristIstFrust', chunks=False)"
   ]
  },
  {
   "cell_type": "code",
   "execution_count": 245,
   "id": "86c4bdcf-d41e-4a79-9047-20a81053d605",
   "metadata": {},
   "outputs": [
    {
     "name": "stdout",
     "output_type": "stream",
     "text": [
      "95vsWissZeitVG: There are 13827 Tweets\n"
     ]
    }
   ],
   "source": [
    "get_Tweet_IDs(src, '95vsWissZeitVG', chunks=False)"
   ]
  },
  {
   "cell_type": "code",
   "execution_count": 247,
   "id": "087930f7-4423-435a-8803-2e72ef57e395",
   "metadata": {},
   "outputs": [
    {
     "name": "stdout",
     "output_type": "stream",
     "text": [
      "WissZeitVG: There are 9802 Tweets\n"
     ]
    }
   ],
   "source": [
    "get_Tweet_IDs(src, 'WissZeitVG', chunks=False)"
   ]
  },
  {
   "cell_type": "code",
   "execution_count": 256,
   "id": "10fe2d72-c938-4c39-867b-96f5540b49d8",
   "metadata": {},
   "outputs": [
    {
     "name": "stdout",
     "output_type": "stream",
     "text": [
      "video_url: There are 1433 Tweets\n"
     ]
    }
   ],
   "source": [
    "get_Tweet_IDs(src, 'video_url', chunks=False)"
   ]
  }
 ],
 "metadata": {
  "kernelspec": {
   "display_name": "Python 3",
   "language": "python",
   "name": "python3"
  },
  "language_info": {
   "codemirror_mode": {
    "name": "ipython",
    "version": 3
   },
   "file_extension": ".py",
   "mimetype": "text/x-python",
   "name": "python",
   "nbconvert_exporter": "python",
   "pygments_lexer": "ipython3",
   "version": "3.9.5"
  }
 },
 "nbformat": 4,
 "nbformat_minor": 5
}
