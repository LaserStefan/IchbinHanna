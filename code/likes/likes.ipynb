{
 "cells": [
  {
   "cell_type": "markdown",
   "id": "242abbc2-225c-4829-8ec7-1ae0c41cccb9",
   "metadata": {},
   "source": [
    "# Likes"
   ]
  },
  {
   "cell_type": "code",
   "execution_count": 1,
   "id": "e616c7a3-b467-4418-8f94-2796bddc4683",
   "metadata": {},
   "outputs": [],
   "source": [
    "import pandas as pd\n",
    "import numpy as np\n",
    "import matplotlib.pyplot as plt\n",
    "from os.path import join"
   ]
  },
  {
   "cell_type": "code",
   "execution_count": 16,
   "id": "7c26bd13-587b-40d5-8a6a-21da9f16d6e2",
   "metadata": {},
   "outputs": [],
   "source": [
    "src = '../../data/tweets'\n",
    "dst = '../../plots/likes/'\n",
    "colors = ['#1c9099', 'grey', '#ffc996', '#ff8474', '#9f5f80', '#583d72' ]\n"
   ]
  },
  {
   "cell_type": "code",
   "execution_count": 5,
   "id": "77956b29-756d-4c48-94df-4b57c3173d98",
   "metadata": {},
   "outputs": [],
   "source": [
    "ESC_tweets = pd.read_csv(join(src, 'ESC.csv'), low_memory=False,\n",
    "                        parse_dates=['created_at'])\n",
    "ESC_tweets['created_at_date'] = ESC_tweets['created_at'].dt.date\n",
    "ESC_tweets = ESC_tweets[\\\n",
    "        ESC_tweets['created_at_date'] >= pd.to_datetime('2021-01-01')]\n",
    "ESC_tweets = ESC_tweets.sort_values(by=['created_at'])\n",
    "ESC_tweets = ESC_tweets.reset_index(drop=True)"
   ]
  },
  {
   "cell_type": "code",
   "execution_count": 6,
   "id": "d7c2f422-19e6-4338-8252-f4d0c26735de",
   "metadata": {},
   "outputs": [
    {
     "name": "stdout",
     "output_type": "stream",
     "text": [
      "dropped 0 out of 39852 tweets, because they were duplicates\n"
     ]
    }
   ],
   "source": [
    "N = len(ESC_tweets)\n",
    "ESC_tweets = ESC_tweets.drop_duplicates(subset=['id'])\n",
    "print('dropped {} out of {} tweets, because they were duplicates'\\\n",
    "         .format(N - len(ESC_tweets), N))"
   ]
  },
  {
   "cell_type": "code",
   "execution_count": 7,
   "id": "79fad13a-0608-4df0-8065-9adff9614461",
   "metadata": {},
   "outputs": [],
   "source": [
    "BTW_tweets = pd.read_csv(join(src, 'bundestagswahl.csv'), low_memory=False,\n",
    "                        parse_dates=['created_at'])\n",
    "BTW_tweets['created_at_date'] = BTW_tweets['created_at'].dt.date\n",
    "BTW_tweets = BTW_tweets[\\\n",
    "        BTW_tweets['created_at_date'] >= pd.to_datetime('2021-01-01')]\n",
    "BTW_tweets = BTW_tweets.sort_values(by=['created_at'])\n",
    "BTW_tweets = BTW_tweets.reset_index(drop=True)"
   ]
  },
  {
   "cell_type": "code",
   "execution_count": 8,
   "id": "3f916bc9-7883-4f6d-baf5-51dafdfc1943",
   "metadata": {},
   "outputs": [
    {
     "name": "stdout",
     "output_type": "stream",
     "text": [
      "dropped 0 out of 230664 tweets, because they were duplicates\n"
     ]
    }
   ],
   "source": [
    "N = len(BTW_tweets)\n",
    "BTW_tweets = BTW_tweets.drop_duplicates(subset=['id'])\n",
    "print('dropped {} out of {} tweets, because they were duplicates'\\\n",
    "         .format(N - len(BTW_tweets), N))"
   ]
  },
  {
   "cell_type": "code",
   "execution_count": 9,
   "id": "b46124f6-52ce-44c6-be84-d0e6bc4f3ab4",
   "metadata": {},
   "outputs": [],
   "source": [
    "IchBinHanna_tweets = pd.read_csv(join(src, 'IchBinHanna.csv'), low_memory=False,\n",
    "                        parse_dates=['created_at'])\n",
    "IchBinHanna_tweets['created_at_date'] = IchBinHanna_tweets['created_at'].dt.date\n",
    "IchBinHanna_tweets = IchBinHanna_tweets[\\\n",
    "        IchBinHanna_tweets['created_at_date'] >= pd.to_datetime('2021-01-01')]"
   ]
  },
  {
   "cell_type": "code",
   "execution_count": 10,
   "id": "28eb7ab0-7b94-4dfa-afe0-5d0e41032418",
   "metadata": {},
   "outputs": [],
   "source": [
    "HannaImBundestag_tweets = pd.read_csv(join(src, 'HannaImBundestag.csv'), low_memory=False,\n",
    "                        parse_dates=['created_at'])\n",
    "HannaImBundestag_tweets['created_at_date'] = HannaImBundestag_tweets['created_at'].dt.date\n",
    "HannaImBundestag_tweets = HannaImBundestag_tweets[\\\n",
    "        HannaImBundestag_tweets['created_at_date'] >= pd.to_datetime('2021-01-01')]"
   ]
  },
  {
   "cell_type": "code",
   "execution_count": 11,
   "id": "9d83ff01-d9e6-49b8-a823-43319235b0d0",
   "metadata": {},
   "outputs": [],
   "source": [
    "hanna_tweets = pd.concat([IchBinHanna_tweets, HannaImBundestag_tweets])\n",
    "hanna_tweets = hanna_tweets.sort_values(by=['created_at'])\n",
    "hanna_tweets = hanna_tweets.reset_index(drop=True)"
   ]
  },
  {
   "cell_type": "code",
   "execution_count": 12,
   "id": "4a535725-a356-4e9e-88ef-aa8212a6891b",
   "metadata": {},
   "outputs": [
    {
     "data": {
      "text/html": [
       "<div>\n",
       "<style scoped>\n",
       "    .dataframe tbody tr th:only-of-type {\n",
       "        vertical-align: middle;\n",
       "    }\n",
       "\n",
       "    .dataframe tbody tr th {\n",
       "        vertical-align: top;\n",
       "    }\n",
       "\n",
       "    .dataframe thead th {\n",
       "        text-align: right;\n",
       "    }\n",
       "</style>\n",
       "<table border=\"1\" class=\"dataframe\">\n",
       "  <thead>\n",
       "    <tr style=\"text-align: right;\">\n",
       "      <th></th>\n",
       "      <th>created_at_date</th>\n",
       "      <th>likes</th>\n",
       "    </tr>\n",
       "  </thead>\n",
       "  <tbody>\n",
       "    <tr>\n",
       "      <th>0</th>\n",
       "      <td>2021-01-01</td>\n",
       "      <td>8.0</td>\n",
       "    </tr>\n",
       "    <tr>\n",
       "      <th>1</th>\n",
       "      <td>2021-01-02</td>\n",
       "      <td>37.0</td>\n",
       "    </tr>\n",
       "    <tr>\n",
       "      <th>2</th>\n",
       "      <td>2021-01-03</td>\n",
       "      <td>1.0</td>\n",
       "    </tr>\n",
       "  </tbody>\n",
       "</table>\n",
       "</div>"
      ],
      "text/plain": [
       "  created_at_date  likes\n",
       "0      2021-01-01    8.0\n",
       "1      2021-01-02   37.0\n",
       "2      2021-01-03    1.0"
      ]
     },
     "execution_count": 12,
     "metadata": {},
     "output_type": "execute_result"
    }
   ],
   "source": [
    "ESC_likes = ESC_tweets[['created_at_date', 'public_metrics.like_count']]\\\n",
    "    .groupby('created_at_date')\\\n",
    "    .agg('sum')\\\n",
    "    .reset_index()\\\n",
    "    .sort_values(by=['created_at_date'])\\\n",
    "    .reset_index(drop=True)\\\n",
    "    .rename(columns={'public_metrics.like_count':'likes'})\n",
    "ESC_likes.head(3)"
   ]
  },
  {
   "cell_type": "code",
   "execution_count": 13,
   "id": "f65393e1-8b16-4a31-b3c5-b470773f26f0",
   "metadata": {},
   "outputs": [
    {
     "data": {
      "text/html": [
       "<div>\n",
       "<style scoped>\n",
       "    .dataframe tbody tr th:only-of-type {\n",
       "        vertical-align: middle;\n",
       "    }\n",
       "\n",
       "    .dataframe tbody tr th {\n",
       "        vertical-align: top;\n",
       "    }\n",
       "\n",
       "    .dataframe thead th {\n",
       "        text-align: right;\n",
       "    }\n",
       "</style>\n",
       "<table border=\"1\" class=\"dataframe\">\n",
       "  <thead>\n",
       "    <tr style=\"text-align: right;\">\n",
       "      <th></th>\n",
       "      <th>created_at_date</th>\n",
       "      <th>likes</th>\n",
       "    </tr>\n",
       "  </thead>\n",
       "  <tbody>\n",
       "    <tr>\n",
       "      <th>0</th>\n",
       "      <td>2021-01-09</td>\n",
       "      <td>94.0</td>\n",
       "    </tr>\n",
       "    <tr>\n",
       "      <th>1</th>\n",
       "      <td>2021-01-11</td>\n",
       "      <td>1.0</td>\n",
       "    </tr>\n",
       "    <tr>\n",
       "      <th>2</th>\n",
       "      <td>2021-01-13</td>\n",
       "      <td>420.0</td>\n",
       "    </tr>\n",
       "  </tbody>\n",
       "</table>\n",
       "</div>"
      ],
      "text/plain": [
       "  created_at_date  likes\n",
       "0      2021-01-09   94.0\n",
       "1      2021-01-11    1.0\n",
       "2      2021-01-13  420.0"
      ]
     },
     "execution_count": 13,
     "metadata": {},
     "output_type": "execute_result"
    }
   ],
   "source": [
    "hanna_likes = hanna_tweets[['created_at_date', 'public_metrics.like_count']]\\\n",
    "    .groupby('created_at_date')\\\n",
    "    .agg('sum')\\\n",
    "    .reset_index()\\\n",
    "    .sort_values(by=['created_at_date'])\\\n",
    "    .reset_index(drop=True)\\\n",
    "    .rename(columns={'public_metrics.like_count':'likes'})\n",
    "hanna_likes.head(3)"
   ]
  },
  {
   "cell_type": "code",
   "execution_count": 14,
   "id": "8a5340b3-80ea-42dd-810c-6fc4feba49c0",
   "metadata": {},
   "outputs": [
    {
     "data": {
      "text/html": [
       "<div>\n",
       "<style scoped>\n",
       "    .dataframe tbody tr th:only-of-type {\n",
       "        vertical-align: middle;\n",
       "    }\n",
       "\n",
       "    .dataframe tbody tr th {\n",
       "        vertical-align: top;\n",
       "    }\n",
       "\n",
       "    .dataframe thead th {\n",
       "        text-align: right;\n",
       "    }\n",
       "</style>\n",
       "<table border=\"1\" class=\"dataframe\">\n",
       "  <thead>\n",
       "    <tr style=\"text-align: right;\">\n",
       "      <th></th>\n",
       "      <th>created_at_date</th>\n",
       "      <th>likes</th>\n",
       "    </tr>\n",
       "  </thead>\n",
       "  <tbody>\n",
       "    <tr>\n",
       "      <th>0</th>\n",
       "      <td>2021-01-01</td>\n",
       "      <td>49790.0</td>\n",
       "    </tr>\n",
       "    <tr>\n",
       "      <th>1</th>\n",
       "      <td>2021-01-02</td>\n",
       "      <td>85542.0</td>\n",
       "    </tr>\n",
       "    <tr>\n",
       "      <th>2</th>\n",
       "      <td>2021-01-03</td>\n",
       "      <td>71573.0</td>\n",
       "    </tr>\n",
       "  </tbody>\n",
       "</table>\n",
       "</div>"
      ],
      "text/plain": [
       "  created_at_date    likes\n",
       "0      2021-01-01  49790.0\n",
       "1      2021-01-02  85542.0\n",
       "2      2021-01-03  71573.0"
      ]
     },
     "execution_count": 14,
     "metadata": {},
     "output_type": "execute_result"
    }
   ],
   "source": [
    "BTW_likes = BTW_tweets[['created_at_date', 'public_metrics.like_count']]\\\n",
    "    .groupby('created_at_date')\\\n",
    "    .agg('sum')\\\n",
    "    .reset_index()\\\n",
    "    .sort_values(by=['created_at_date'])\\\n",
    "    .reset_index(drop=True)\\\n",
    "    .rename(columns={'public_metrics.like_count':'likes'})\n",
    "BTW_likes.head(3)"
   ]
  },
  {
   "cell_type": "code",
   "execution_count": 19,
   "id": "c6342deb-2ac1-494c-a065-f6c5f0de2165",
   "metadata": {},
   "outputs": [
    {
     "data": {
      "image/png": "[encoded data removed]",
      "text/plain": [
       "<Figure size 864x360 with 1 Axes>"
      ]
     },
     "metadata": {
      "needs_background": "light"
     },
     "output_type": "display_data"
    }
   ],
   "source": [
    "fig, ax = plt.subplots(figsize=(12, 5))\n",
    "\n",
    "ESC_likes['likes_avg'] = ESC_likes['likes'].rolling(7).mean()\n",
    "hanna_likes['likes_avg'] = hanna_likes['likes'].rolling(7).mean()\n",
    "BTW_likes['likes_avg'] = BTW_likes['likes'].rolling(7).mean()\n",
    "\n",
    "ax.plot(ESC_likes['created_at_date'], ESC_likes['likes_avg'],\n",
    "        label='ESC 2021', color=colors[0])\n",
    "ax.plot(hanna_likes['created_at_date'], hanna_likes['likes_avg'],\n",
    "        label='IchBinHanna', color=colors[-1])\n",
    "ax.plot(BTW_likes['created_at_date'], BTW_likes['likes_avg'],\n",
    "        label='Bundestagswahl', color=colors[-3])\n",
    "\n",
    "ax.legend()\n",
    "\n",
    "ax.set_xlim(pd.to_datetime('2021-05-01'), pd.to_datetime('2021-06-27'))\n",
    "\n",
    "plt.savefig(join(dst, 'tweet_popularity_compared_to_other_events.pdf'))\n",
    "plt.savefig(join(dst, 'tweet_popularity_compared_to_other_events.png'), dpi=300)"
   ]
  }
 ],
 "metadata": {
  "kernelspec": {
   "display_name": "Python 3",
   "language": "python",
   "name": "python3"
  },
  "language_info": {
   "codemirror_mode": {
    "name": "ipython",
    "version": 3
   },
   "file_extension": ".py",
   "mimetype": "text/x-python",
   "name": "python",
   "nbconvert_exporter": "python",
   "pygments_lexer": "ipython3",
   "version": "3.9.5"
  }
 },
 "nbformat": 4,
 "nbformat_minor": 5
}
