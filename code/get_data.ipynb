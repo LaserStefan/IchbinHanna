{
 "cells": [
  {
   "cell_type": "markdown",
   "id": "e1fd4a2f-2763-4de4-8e1d-82d729f2fccc",
   "metadata": {},
   "source": [
    "# Analysis of Tweets from a full archival search"
   ]
  },
  {
   "cell_type": "code",
   "execution_count": 25,
   "id": "2736377a-a81c-49c9-a017-5d9492682620",
   "metadata": {},
   "outputs": [],
   "source": [
    "import pandas as pd\n",
    "from os.path import join\n",
    "import numpy as np"
   ]
  },
  {
   "cell_type": "code",
   "execution_count": 349,
   "id": "f455d354-c78f-4a79-a1eb-177a992ee719",
   "metadata": {},
   "outputs": [],
   "source": [
    "src = '../data/tweets'\n",
    "hashtags = ['WissZeitVG', 'FristIstFrust', '95vsWissZeitVG', 'IchBinHanna', \n",
    "            'ACertainDegreeOfFlexibility', 'IchBinJelena', 'IchBinMelek',\n",
    "            'IchBinNichtHanna']"
   ]
  },
  {
   "cell_type": "markdown",
   "id": "3e79a755-e2a4-4bdd-b652-9cddf196732b",
   "metadata": {},
   "source": [
    "Note: if the Tweets have already been downloaded and the Tweet data exists in the folder ```data``` as compressed ```.jsonl``` files, you can skip the \"Query tweets\" and \"Compress data\" steps and start processing at \"Decompress data\"."
   ]
  },
  {
   "cell_type": "markdown",
   "id": "227aa378-1936-456a-8e1d-f65752baf6ab",
   "metadata": {},
   "source": [
    "## Collect Tweets"
   ]
  },
  {
   "cell_type": "markdown",
   "id": "298c350c-ff12-443e-b27f-ca243fe795cd",
   "metadata": {},
   "source": [
    "### Query tweets"
   ]
  },
  {
   "cell_type": "markdown",
   "id": "f55e8dcc-f990-48f8-895c-4b9d4d2ab179",
   "metadata": {},
   "source": [
    "Note: the queries are saved in separate files. I do this to make the data collection process reproducible by saving the exact query parameters for every data file."
   ]
  },
  {
   "cell_type": "code",
   "execution_count": 301,
   "id": "9daf2e0f-6b79-4d96-9608-edb49ff5ef75",
   "metadata": {},
   "outputs": [],
   "source": [
    "# change file permissions such that execution is allowed\n",
    "! chmod +x ./queries/video_url.sh\n",
    "# run the query. Note: this can take a while, depending on the number of Tweets\n",
    "# that need to be downloaded\n",
    "! ./queries/video_url.sh"
   ]
  },
  {
   "cell_type": "code",
   "execution_count": 302,
   "id": "f61fb07f-d731-4e37-a566-5e1adb454027",
   "metadata": {},
   "outputs": [],
   "source": [
    "! chmod +x ./queries/95vsWissZeitVG.sh\n",
    "! ./queries/95vsWissZeitVG.sh"
   ]
  },
  {
   "cell_type": "code",
   "execution_count": 303,
   "id": "0271ec95-30ce-4a58-a264-f00643ffd3d1",
   "metadata": {},
   "outputs": [],
   "source": [
    "! chmod +x ./queries/FristIstFrust.sh\n",
    "! ./queries/FristIstFrust.sh"
   ]
  },
  {
   "cell_type": "code",
   "execution_count": 304,
   "id": "796eb355-b347-41a0-b649-23b5be8eeae9",
   "metadata": {},
   "outputs": [],
   "source": [
    "! chmod +x ./queries/WissZeitVG.sh\n",
    "! ./queries/WissZeitVG.sh"
   ]
  },
  {
   "cell_type": "code",
   "execution_count": 324,
   "id": "2b69f1cd-52cf-4270-a5e9-dfe09be62efa",
   "metadata": {},
   "outputs": [],
   "source": [
    "# note: the more prevalent hashtag is \"#IchBinHanna\" (without the \"h\" at the end)\n",
    "# the query for \"#IchBinHannah\" (and it's variants) includes the variant without\n",
    "# the \"h\", since it's a substring.\n",
    "! chmod +x ./queries/IchBinHanna.sh\n",
    "! ./queries/IchBinHanna.sh"
   ]
  },
  {
   "cell_type": "code",
   "execution_count": 306,
   "id": "6972c84a-8adc-4d53-aa3f-08a711b0a5e6",
   "metadata": {},
   "outputs": [],
   "source": [
    "! chmod +x ./queries/ACertainDegreeOfFlexibility.sh\n",
    "! ./queries/ACertainDegreeOfFlexibility.sh"
   ]
  },
  {
   "cell_type": "code",
   "execution_count": 307,
   "id": "6e8d0ea2-2fae-4f69-9e51-9f3c1b1d3843",
   "metadata": {},
   "outputs": [],
   "source": [
    "! chmod +x ./queries/ACertainDegreeOfFlexibility.sh\n",
    "! ./queries/ACertainDegreeOfFlexibility.sh"
   ]
  },
  {
   "cell_type": "code",
   "execution_count": 308,
   "id": "2be23236-00e6-4560-aaea-22ecaafa5a8e",
   "metadata": {},
   "outputs": [],
   "source": [
    "! chmod +x ./queries/IchBinJelena.sh\n",
    "! ./queries/IchBinJelena.sh"
   ]
  },
  {
   "cell_type": "code",
   "execution_count": 309,
   "id": "b7ddee05-b45c-4d34-a15e-ea80c9a11560",
   "metadata": {},
   "outputs": [],
   "source": [
    "! chmod +x ./queries/IchBinMelek.sh\n",
    "! ./queries/IchBinMelek.sh"
   ]
  },
  {
   "cell_type": "code",
   "execution_count": 310,
   "id": "eb2785f3-b486-4db3-9d84-dabf4e61193b",
   "metadata": {},
   "outputs": [],
   "source": [
    "! chmod +x ./queries/IchBinNichtHanna.sh\n",
    "! ./queries/IchBinNichtHanna.sh"
   ]
  },
  {
   "cell_type": "markdown",
   "id": "b08b6cc4-55c3-49c1-8dcf-41389f5c28cf",
   "metadata": {},
   "source": [
    "### Compress data"
   ]
  },
  {
   "cell_type": "markdown",
   "id": "5dbabbb6-1522-4898-b830-0f27ec68ba32",
   "metadata": {},
   "source": [
    "Note: under windows, .xz files can be decompressed for examply with [WinZIP](https://www.winzip.com/win/en/xz-file.html)."
   ]
  },
  {
   "cell_type": "code",
   "execution_count": 312,
   "id": "9e823702-74c6-4c93-996c-74c6809e973d",
   "metadata": {},
   "outputs": [
    {
     "name": "stdout",
     "output_type": "stream",
     "text": [
      "xz: ../data/WissZeitVG.jsonl.xz: File exists\n",
      "xz: ../data/video_url.jsonl.xz: File exists\n",
      "xz: ../data/IchBinJelena.jsonl.xz: File exists\n",
      "xz: ../data/IchBinMelek.jsonl.xz: File exists\n",
      "xz: ../data/IchBinNichtHanna.jsonl.xz: File exists\n"
     ]
    }
   ],
   "source": [
    "# the parameter \"-k\" keeps the original file\n",
    "! xz -k ../data/tweets/95vsWissZeitVG.jsonl\n",
    "! xz -k ../data/tweets/FristIstFrust.jsonl\n",
    "! xz -k ../data/tweets/WissZeitVG.jsonl\n",
    "! xz -k ../data/tweets/IchBinHanna.jsonl\n",
    "! xz -k ../data/tweets/video_url.jsonl\n",
    "! xz -k ../data/tweets/ACertainDegreeOfFlexibility.jsonl\n",
    "! xz -k ../data/tweets/IchBinJelena.jsonl\n",
    "! xz -k ../data/tweets/IchBinMelek.jsonl\n",
    "! xz -k ../data/tweets/IchBinNichtHanna.jsonl"
   ]
  },
  {
   "cell_type": "markdown",
   "id": "2aa07f31-bcb5-4df2-b5a7-1701b214b40b",
   "metadata": {},
   "source": [
    "### Decompress data"
   ]
  },
  {
   "cell_type": "code",
   "execution_count": 284,
   "id": "a12108e2-0082-4ba5-b60f-70791ea6698d",
   "metadata": {},
   "outputs": [
    {
     "name": "stdout",
     "output_type": "stream",
     "text": [
      "xz: ../data/95vsWissZeitVG.jsonl: File exists\n",
      "xz: ../data/FristIstFrust.jsonl: File exists\n",
      "xz: ../data/WissZeitVG.jsonl: File exists\n",
      "xz: ../data/IchBinHannah.jsonl: File exists\n",
      "xz: ../data/IchBinMelek.jsonl.xz: No such file or directory\n"
     ]
    }
   ],
   "source": [
    "! xz -d ../data/tweets/95vsWissZeitVG.jsonl.xz\n",
    "! xz -d ../data/tweets/FristIstFrust.jsonl.xz\n",
    "! xz -d ../data/tweets/WissZeitVG.jsonl.xz\n",
    "! xz -d ../data/tweets/IchBinHanna.jsonl.xz\n",
    "! xz -d ../data/tweets/ACertainDegreeOfFlexibility.jsonl.xz\n",
    "! xz -d ../data/tweets/IchBinJelena.jsonl.xz\n",
    "! xz -d ../data/tweets/IchBinMelek.jsonl.xz\n",
    "! xz -d ../data/tweets/IchBinNichtHanna.jsonl.xz"
   ]
  },
  {
   "cell_type": "markdown",
   "id": "abef9fe9-e194-436d-931f-4ee765ebe7f3",
   "metadata": {},
   "source": [
    "### Convert to CSV"
   ]
  },
  {
   "cell_type": "markdown",
   "id": "ae77deef-3515-4291-aa48-cdfffa3da77b",
   "metadata": {},
   "source": [
    "Removes duplicate tweets (by ID) but keeps referenced tweets."
   ]
  },
  {
   "cell_type": "code",
   "execution_count": 326,
   "id": "376f5e7e-1d2a-4008-b7c2-4f36cd0fc4a5",
   "metadata": {},
   "outputs": [
    {
     "name": "stdout",
     "output_type": "stream",
     "text": [
      "100%|██████████████████████████████████████| 47.9M/47.9M [00:12<00:00, 3.99MB/s]\n",
      "\n",
      "ℹ️\n",
      "Read 51580 tweets from 55 lines. \n",
      "24246 were referenced tweets, 23424 were duplicates.\n",
      "Wrote 28156 rows and output 89 of 89 input columns in the CSV.\n",
      "\n"
     ]
    }
   ],
   "source": [
    "! twarc2 csv ../data/tweets/IchBinHanna.jsonl ../data/IchBinHanna.csv"
   ]
  },
  {
   "cell_type": "code",
   "execution_count": 316,
   "id": "4cd82f52-3c12-4315-ace9-6ce5855d80f6",
   "metadata": {},
   "outputs": [
    {
     "name": "stdout",
     "output_type": "stream",
     "text": [
      "100%|██████████████████████████████████████| 20.0M/20.0M [00:06<00:00, 3.00MB/s]\n",
      "\n",
      "ℹ️\n",
      "Read 26072 tweets from 28 lines. \n",
      "12653 were referenced tweets, 11875 were duplicates.\n",
      "Wrote 14197 rows and output 89 of 89 input columns in the CSV.\n",
      "\n"
     ]
    }
   ],
   "source": [
    "! twarc2 csv ../data/tweets/95vsWissZeitVG.jsonl ../data/95vsWissZeitVG.csv"
   ]
  },
  {
   "cell_type": "code",
   "execution_count": 317,
   "id": "e2606cec-1355-42df-bb11-59da7a2699c7",
   "metadata": {},
   "outputs": [
    {
     "name": "stdout",
     "output_type": "stream",
     "text": [
      "100%|██████████████████████████████████████| 22.7M/22.7M [00:07<00:00, 3.16MB/s]\n",
      "\n",
      "ℹ️\n",
      "Read 27714 tweets from 30 lines. \n",
      "13166 were referenced tweets, 11876 were duplicates.\n",
      "Wrote 15838 rows and output 89 of 89 input columns in the CSV.\n",
      "\n"
     ]
    }
   ],
   "source": [
    "! twarc2 csv ../data/tweets/FristIstFrust.jsonl ../data/FristIstFrust.csv"
   ]
  },
  {
   "cell_type": "code",
   "execution_count": 318,
   "id": "8af282d0-7422-4403-9bdf-b3d4b4cf42f2",
   "metadata": {},
   "outputs": [
    {
     "name": "stdout",
     "output_type": "stream",
     "text": [
      "100%|██████████████████████████████████████| 2.21M/2.21M [00:00<00:00, 3.59MB/s]\n",
      "\n",
      "ℹ️\n",
      "Read 2769 tweets from 3 lines. \n",
      "1343 were referenced tweets, 1296 were duplicates.\n",
      "Wrote 1473 rows and output 89 of 89 input columns in the CSV.\n",
      "\n"
     ]
    }
   ],
   "source": [
    "! twarc2 csv ../data/tweets/video_url.jsonl ../data/video_url.csv"
   ]
  },
  {
   "cell_type": "code",
   "execution_count": 319,
   "id": "5ba94407-c220-48f2-816b-874d8cece76b",
   "metadata": {},
   "outputs": [
    {
     "name": "stdout",
     "output_type": "stream",
     "text": [
      "100%|██████████████████████████████████████| 15.8M/15.8M [00:05<00:00, 3.20MB/s]\n",
      "\n",
      "ℹ️\n",
      "Read 18611 tweets from 20 lines. \n",
      "8947 were referenced tweets, 8109 were duplicates.\n",
      "Wrote 10502 rows and output 89 of 89 input columns in the CSV.\n",
      "\n"
     ]
    }
   ],
   "source": [
    "! twarc2 csv ../data/tweets/WissZeigVG.jsonl ../data/WissZeigVG.csv"
   ]
  },
  {
   "cell_type": "code",
   "execution_count": 320,
   "id": "3bbfb8f2-c38f-465a-9bf3-48d2512d56c5",
   "metadata": {},
   "outputs": [
    {
     "name": "stdout",
     "output_type": "stream",
     "text": [
      "100%|██████████████████████████████████████| 18.5M/18.5M [00:06<00:00, 3.02MB/s]\n",
      "\n",
      "ℹ️\n",
      "Read 23025 tweets from 24 lines. \n",
      "11128 were referenced tweets, 10102 were duplicates.\n",
      "Wrote 12923 rows and output 89 of 89 input columns in the CSV.\n",
      "\n"
     ]
    }
   ],
   "source": [
    "! twarc2 csv ../data/tweets/ACertainDegreeOfFlexibility.jsonl ../data/ACertainDegreeOfFlexibility.csv"
   ]
  },
  {
   "cell_type": "code",
   "execution_count": 321,
   "id": "262eab08-86a9-4a7d-9e4f-ee93096821a6",
   "metadata": {},
   "outputs": [
    {
     "name": "stdout",
     "output_type": "stream",
     "text": [
      "100%|████████████████████████████████████████| 124k/124k [00:00<00:00, 2.14MB/s]\n",
      "\n",
      "ℹ️\n",
      "Read 146 tweets from 1 lines. \n",
      "72 were referenced tweets, 70 were duplicates.\n",
      "Wrote 76 rows and output 89 of 89 input columns in the CSV.\n",
      "\n"
     ]
    }
   ],
   "source": [
    "! twarc2 csv ../data/tweets/IchBinJelena.jsonl ../data/IchBinJelena.csv"
   ]
  },
  {
   "cell_type": "code",
   "execution_count": 322,
   "id": "336f5dc9-9948-4c87-8ee5-915a1383545f",
   "metadata": {},
   "outputs": [
    {
     "name": "stdout",
     "output_type": "stream",
     "text": [
      "100%|██████████████████████████████████████| 97.6k/97.6k [00:00<00:00, 1.93MB/s]\n",
      "\n",
      "ℹ️\n",
      "Read 115 tweets from 1 lines. \n",
      "57 were referenced tweets, 56 were duplicates.\n",
      "Wrote 59 rows and output 89 of 89 input columns in the CSV.\n",
      "\n"
     ]
    }
   ],
   "source": [
    "! twarc2 csv ../data/tweets/IchBinMelek.jsonl ../data/IchBinMelek.csv"
   ]
  },
  {
   "cell_type": "code",
   "execution_count": 323,
   "id": "545c347c-dc81-46f6-8ef6-2d4ab0ecd161",
   "metadata": {},
   "outputs": [
    {
     "name": "stdout",
     "output_type": "stream",
     "text": [
      "100%|███████████████████████████████████████| 25.1k/25.1k [00:00<00:00, 762kB/s]\n",
      "\n",
      "ℹ️\n",
      "Read 17 tweets from 1 lines. \n",
      "7 were referenced tweets, 2 were duplicates.\n",
      "Wrote 15 rows and output 89 of 89 input columns in the CSV.\n",
      "\n"
     ]
    }
   ],
   "source": [
    "! twarc2 csv ../data/tweets/IchBinNichtHanna.jsonl ../data/IchBinNichtHanna.csv"
   ]
  },
  {
   "cell_type": "markdown",
   "id": "956007ae-e9f7-42d8-b10b-1b6508623586",
   "metadata": {},
   "source": [
    "## Extract conversation IDs"
   ]
  },
  {
   "cell_type": "code",
   "execution_count": 354,
   "id": "771faa23-5d95-4907-be7e-f10963332a30",
   "metadata": {},
   "outputs": [],
   "source": [
    "def get_conversation_IDs(src, dst, filename, chunks=False, chunksize=1000):\n",
    "    data = pd.read_csv(join(src, '{}.csv'.format(filename)), low_memory=False)\n",
    "    conversationIDs = data['conversation_id'].dropna().astype(int).unique()\n",
    "    print('{}: There are {} Tweets from {} conversations'\\\n",
    "              .format(filename, len(data), len(conversationIDs)))\n",
    "    \n",
    "    if chunks:\n",
    "        N_chunks = len(conversationIDs) // chunksize\n",
    "        print(N_chunks)\n",
    "        for i in range(N_chunks):\n",
    "            ID_chunk = conversationIDs[i * chunksize : (i + 1) * chunksize]\n",
    "            np.savetxt(join(dst, '{}_ConversationIDs_{}_to_{}.txt'\\\n",
    "                .format(filename, i * chunksize, (i + 1) * chunksize)),\n",
    "                ID_chunk, fmt='%d')\n",
    "        np.savetxt(join(dst, '{}_ConversationIDs_{}_to_{}.txt'\\\n",
    "                .format(filename, N_chunks * chunksize, len(conversationIDs))),\n",
    "                conversationIDs[N_chunks * chunksize : ], fmt='%d')\n",
    "            \n",
    "    else:   \n",
    "        np.savetxt(join(dst, '{}_ConversationIDs.txt'.format(filename)),\n",
    "                   conversationIDs, fmt='%d')"
   ]
  },
  {
   "cell_type": "code",
   "execution_count": 355,
   "id": "ea8d54a1-e550-4bb2-933b-bb2acf7647df",
   "metadata": {},
   "outputs": [],
   "source": [
    "dst = '../data/conversation_IDs'"
   ]
  },
  {
   "cell_type": "code",
   "execution_count": 356,
   "id": "2e76f078-c8ab-4ce5-9a20-4d2eb10b8a05",
   "metadata": {},
   "outputs": [
    {
     "name": "stdout",
     "output_type": "stream",
     "text": [
      "IchBinHanna: There are 28156 Tweets from 26340 conversations\n"
     ]
    }
   ],
   "source": [
    "get_conversation_IDs(src, dst, 'IchBinHanna', chunks=False, chunksize=10)"
   ]
  },
  {
   "cell_type": "code",
   "execution_count": 357,
   "id": "617711f6-a767-48b2-87c1-0a492a2f0994",
   "metadata": {},
   "outputs": [
    {
     "name": "stdout",
     "output_type": "stream",
     "text": [
      "FristIstFrust: There are 15838 Tweets from 14945 conversations\n"
     ]
    }
   ],
   "source": [
    "get_conversation_IDs(src, dst, 'FristIstFrust', chunks=False)"
   ]
  },
  {
   "cell_type": "code",
   "execution_count": 358,
   "id": "a0e508ec-a1d3-402d-8f89-d40cb370b429",
   "metadata": {},
   "outputs": [
    {
     "name": "stdout",
     "output_type": "stream",
     "text": [
      "95vsWissZeitVG: There are 14197 Tweets from 13428 conversations\n"
     ]
    }
   ],
   "source": [
    "get_conversation_IDs(src, dst, '95vsWissZeitVG', chunks=False)"
   ]
  },
  {
   "cell_type": "code",
   "execution_count": 359,
   "id": "de574738-6f80-4e53-a857-aefae108f98a",
   "metadata": {},
   "outputs": [
    {
     "name": "stdout",
     "output_type": "stream",
     "text": [
      "WissZeitVG: There are 10502 Tweets from 9546 conversations\n"
     ]
    }
   ],
   "source": [
    "get_conversation_IDs(src, dst, 'WissZeitVG', chunks=False)"
   ]
  },
  {
   "cell_type": "code",
   "execution_count": 360,
   "id": "4b59920b-9937-4102-84b5-63813e161cd9",
   "metadata": {},
   "outputs": [
    {
     "name": "stdout",
     "output_type": "stream",
     "text": [
      "ACertainDegreeOfFlexibility: There are 12923 Tweets from 12054 conversations\n"
     ]
    }
   ],
   "source": [
    "get_conversation_IDs(src, dst, 'ACertainDegreeOfFlexibility')"
   ]
  },
  {
   "cell_type": "code",
   "execution_count": 361,
   "id": "fae038f0-a889-4b26-bb96-9d058b78d8c4",
   "metadata": {},
   "outputs": [
    {
     "name": "stdout",
     "output_type": "stream",
     "text": [
      "video_url: There are 1473 Tweets from 1423 conversations\n"
     ]
    }
   ],
   "source": [
    "get_conversation_IDs(src, dst, 'video_url')"
   ]
  },
  {
   "cell_type": "code",
   "execution_count": 362,
   "id": "ef895200-7571-4605-8c68-fc9209d21a7d",
   "metadata": {},
   "outputs": [
    {
     "name": "stdout",
     "output_type": "stream",
     "text": [
      "IchBinJelena: There are 76 Tweets from 74 conversations\n"
     ]
    }
   ],
   "source": [
    "get_conversation_IDs(src, dst, 'IchBinJelena')"
   ]
  },
  {
   "cell_type": "code",
   "execution_count": 363,
   "id": "338a8741-3052-4f32-a2d0-7ec8872b5b33",
   "metadata": {},
   "outputs": [
    {
     "name": "stdout",
     "output_type": "stream",
     "text": [
      "IchBinMelek: There are 59 Tweets from 59 conversations\n"
     ]
    }
   ],
   "source": [
    "get_conversation_IDs(src, dst, 'IchBinMelek')"
   ]
  },
  {
   "cell_type": "code",
   "execution_count": 364,
   "id": "8e85cca0-5ed0-47c8-bf8e-cac0354a741f",
   "metadata": {},
   "outputs": [
    {
     "name": "stdout",
     "output_type": "stream",
     "text": [
      "IchBinNichtHanna: There are 15 Tweets from 12 conversations\n"
     ]
    }
   ],
   "source": [
    "get_conversation_IDs(src, dst, 'IchBinNichtHanna')"
   ]
  },
  {
   "cell_type": "markdown",
   "id": "a6f9227a-68a8-404c-b183-87963c9f258d",
   "metadata": {},
   "source": [
    "## Extract Tweet IDs"
   ]
  },
  {
   "cell_type": "code",
   "execution_count": 367,
   "id": "48706ae1-5986-4fb5-b6b0-634ca25b1dbb",
   "metadata": {},
   "outputs": [],
   "source": [
    "def get_Tweet_IDs(src, dst, filename, chunks=False, chunksize=1000):\n",
    "    data = pd.read_csv(join(src, '{}.csv'.format(filename)), low_memory=False)\n",
    "    TweetIDs = data['id'].dropna().astype(int).unique()\n",
    "    print('{}: There are {} Tweets'\\\n",
    "              .format(filename, len(TweetIDs)))\n",
    "    \n",
    "    if chunks:\n",
    "        N_chunks = len(TweetIDs) // chunksize\n",
    "        print(N_chunks)\n",
    "        for i in range(N_chunks):\n",
    "            ID_chunk = TweetIDs[i * chunksize : (i + 1) * chunksize]\n",
    "            np.savetxt(join(dst, '{}_TweetIDs_{}_to_{}.txt'\\\n",
    "                .format(filename, i * chunksize, (i + 1) * chunksize)),\n",
    "                ID_chunk, fmt='%d')\n",
    "        np.savetxt(join(dst, '{}_TweetIDs_{}_to_{}.txt'\\\n",
    "                .format(filename, N_chunks * chunksize, len(TweetIDs))),\n",
    "                TweetIDs[N_chunks * chunksize : ], fmt='%d')\n",
    "            \n",
    "    else:   \n",
    "        np.savetxt(join(dst, '{}_TweetIDs.txt'.format(filename)),\n",
    "                   TweetIDs, fmt='%d')"
   ]
  },
  {
   "cell_type": "code",
   "execution_count": 368,
   "id": "c5ef4a39-6f0e-473d-ba97-5c9e31969471",
   "metadata": {},
   "outputs": [],
   "source": [
    "dst = '../data/tweet_IDs'"
   ]
  },
  {
   "cell_type": "code",
   "execution_count": 369,
   "id": "fa740f1a-7966-4ebb-90a8-e0693836cac3",
   "metadata": {},
   "outputs": [
    {
     "name": "stdout",
     "output_type": "stream",
     "text": [
      "IchBinHanna: There are 28156 Tweets\n"
     ]
    }
   ],
   "source": [
    "get_Tweet_IDs(src, dst, 'IchBinHanna', chunks=False)"
   ]
  },
  {
   "cell_type": "code",
   "execution_count": 370,
   "id": "0396d9ac-dd2a-416d-9034-0e7a4c3644ce",
   "metadata": {},
   "outputs": [
    {
     "name": "stdout",
     "output_type": "stream",
     "text": [
      "FristIstFrust: There are 15838 Tweets\n"
     ]
    }
   ],
   "source": [
    "get_Tweet_IDs(src, dst, 'FristIstFrust', chunks=False)"
   ]
  },
  {
   "cell_type": "code",
   "execution_count": 371,
   "id": "86c4bdcf-d41e-4a79-9047-20a81053d605",
   "metadata": {},
   "outputs": [
    {
     "name": "stdout",
     "output_type": "stream",
     "text": [
      "95vsWissZeitVG: There are 14197 Tweets\n"
     ]
    }
   ],
   "source": [
    "get_Tweet_IDs(src, dst, '95vsWissZeitVG', chunks=False)"
   ]
  },
  {
   "cell_type": "code",
   "execution_count": 372,
   "id": "087930f7-4423-435a-8803-2e72ef57e395",
   "metadata": {},
   "outputs": [
    {
     "name": "stdout",
     "output_type": "stream",
     "text": [
      "WissZeitVG: There are 10502 Tweets\n"
     ]
    }
   ],
   "source": [
    "get_Tweet_IDs(src, dst, 'WissZeitVG', chunks=False)"
   ]
  },
  {
   "cell_type": "code",
   "execution_count": 373,
   "id": "37d69353-a97a-4976-bd3b-17b8830dd1fb",
   "metadata": {},
   "outputs": [
    {
     "name": "stdout",
     "output_type": "stream",
     "text": [
      "ACertainDegreeOfFlexibility: There are 12923 Tweets\n"
     ]
    }
   ],
   "source": [
    "get_Tweet_IDs(src, dst, 'ACertainDegreeOfFlexibility', chunks=False)"
   ]
  },
  {
   "cell_type": "code",
   "execution_count": 374,
   "id": "10fe2d72-c938-4c39-867b-96f5540b49d8",
   "metadata": {},
   "outputs": [
    {
     "name": "stdout",
     "output_type": "stream",
     "text": [
      "video_url: There are 1473 Tweets\n"
     ]
    }
   ],
   "source": [
    "get_Tweet_IDs(src, dst, 'video_url', chunks=False)"
   ]
  },
  {
   "cell_type": "code",
   "execution_count": 375,
   "id": "f2cc454c-29f5-4e0a-96fa-bb1892b073dd",
   "metadata": {},
   "outputs": [
    {
     "name": "stdout",
     "output_type": "stream",
     "text": [
      "IchBinJelena: There are 76 Tweets\n"
     ]
    }
   ],
   "source": [
    "get_Tweet_IDs(src, dst, 'IchBinJelena', chunks=False)"
   ]
  },
  {
   "cell_type": "code",
   "execution_count": 376,
   "id": "d829111c-3496-4bf0-b3d1-43481163f571",
   "metadata": {},
   "outputs": [
    {
     "name": "stdout",
     "output_type": "stream",
     "text": [
      "IchBinMelek: There are 59 Tweets\n"
     ]
    }
   ],
   "source": [
    "get_Tweet_IDs(src, dst, 'IchBinMelek', chunks=False)"
   ]
  },
  {
   "cell_type": "code",
   "execution_count": 378,
   "id": "dd3556ba-5852-4cb6-92cb-16caa65f9ee1",
   "metadata": {},
   "outputs": [
    {
     "name": "stdout",
     "output_type": "stream",
     "text": [
      "IchBinNichtHanna: There are 15 Tweets\n"
     ]
    }
   ],
   "source": [
    "get_Tweet_IDs(src, dst, 'IchBinNichtHanna', chunks=False)"
   ]
  }
 ],
 "metadata": {
  "kernelspec": {
   "display_name": "Python 3",
   "language": "python",
   "name": "python3"
  },
  "language_info": {
   "codemirror_mode": {
    "name": "ipython",
    "version": 3
   },
   "file_extension": ".py",
   "mimetype": "text/x-python",
   "name": "python",
   "nbconvert_exporter": "python",
   "pygments_lexer": "ipython3",
   "version": "3.9.5"
  }
 },
 "nbformat": 4,
 "nbformat_minor": 5
}
