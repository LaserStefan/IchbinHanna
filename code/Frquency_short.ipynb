{
 "cells": [
  {
   "cell_type": "markdown",
   "id": "e3c96bfd-4fb8-4577-8b65-8b854f5aa6c7",
   "metadata": {},
   "source": [
    "# Only the updated data, only June."
   ]
  },
  {
   "cell_type": "code",
   "execution_count": null,
   "id": "853c9e69-a916-4546-8429-03819f6b67ef",
   "metadata": {},
   "outputs": [],
   "source": [
    "import pandas as pd\n",
    "from os.path import join\n",
    "import matplotlib.pyplot as plt"
   ]
  },
  {
   "cell_type": "code",
   "execution_count": null,
   "id": "90a23eca-e82e-4f78-9f4e-1d9a0760377c",
   "metadata": {},
   "outputs": [],
   "source": [
    "src = '/media/s/Linux_storage/Analyse_Verkehrswende_Transformation/Data/Updates'\n",
    "hashtags = ['WissZeitVG', 'FristIstFrust', '95vsWissZeitVG',\n",
    "            'ACertainDegreeOfFlexibility', 'IchBinHanna']"
   ]
  },
  {
   "cell_type": "code",
   "execution_count": null,
   "id": "fd06230c-8c1d-4812-862b-f4b11cd5b250",
   "metadata": {},
   "outputs": [],
   "source": [
    "def get_tweet_frequency(src, filename, date_cutoff=pd.to_datetime('2018-01-01')):\n",
    "    data = pd.read_csv(join(src, '{}.csv'.format(filename)), low_memory=False)\n",
    "    print('{}: {} Tweets'.format(filename, len(data)))\n",
    "    data['created_at'] = pd.to_datetime(data['created_at'])\n",
    "    data['created_at_date'] = data['created_at'].dt.date\n",
    "    data = data[data['created_at_date'] >= date_cutoff]\n",
    "    \n",
    "    frequency = data[['created_at_date', 'id']]\\\n",
    "        .groupby('created_at_date')\\\n",
    "        .agg('count')\\\n",
    "        .rename(columns={'id':'tweet_count'})\n",
    "    \n",
    "    return frequency"
   ]
  },
  {
   "cell_type": "code",
   "execution_count": null,
   "id": "07904860-c2e5-4e5c-a6ee-9ce442fa3cd9",
   "metadata": {},
   "outputs": [],
   "source": [
    "colors = ['grey', '#ffc996', '#ff8474', '#9f5f80', '#583d72' ]\n",
    "\n",
    "fig, ax = plt.subplots()\n",
    "for ht, color in zip(hashtags, colors):\n",
    "    frequency = get_tweet_frequency(src, ht)\n",
    "    frequency_avg = frequency['tweet_count'].rolling(1).mean().dropna()\n",
    "    ax.plot(frequency_avg.index, frequency_avg.values, color=color,\n",
    "            label='#{}'.format(ht), linewidth=2)\n",
    "    \n",
    "ax.set_yscale('log')\n",
    "ax.set_xlim(pd.to_datetime('2021-06-08'), pd.to_datetime('2021-06-21'))\n",
    "ax.set_ylim(ymax=1e6)\n",
    "ax.set_xticks([pd.to_datetime(t) for t in ['2021-06-01', '2021-06-10', '2021-06-21',]])\n",
    "ax.tick_params(axis='x', rotation=45)\n",
    "ax.set_ylabel('log(Anzahl Tweets / Tag)', fontsize=16)\n",
    "ax.spines['right'].set_visible(False)\n",
    "ax.spines['top'].set_visible(False)\n",
    "\n",
    "ax.legend()\n",
    "\n",
    "fig.tight_layout()\n",
    "\n",
    "plt.savefig('../tweet_frequency_short.png', dpi=300)"
   ]
  }
 ],
 "metadata": {
  "kernelspec": {
   "display_name": "Python 3",
   "language": "python",
   "name": "python3"
  },
  "language_info": {
   "codemirror_mode": {
    "name": "ipython",
    "version": 3
   },
   "file_extension": ".py",
   "mimetype": "text/x-python",
   "name": "python",
   "nbconvert_exporter": "python",
   "pygments_lexer": "ipython3",
   "version": "3.8.5"
  }
 },
 "nbformat": 4,
 "nbformat_minor": 5
}
