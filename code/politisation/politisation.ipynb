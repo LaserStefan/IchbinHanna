{
 "cells": [
  {
   "cell_type": "markdown",
   "id": "5ab4369d-5aaa-420e-b963-e451cdf9860b",
   "metadata": {},
   "source": [
    "# Politisation"
   ]
  },
  {
   "cell_type": "code",
   "execution_count": 3,
   "id": "18f2a2e9-09d9-4d83-9425-04765a5e341a",
   "metadata": {},
   "outputs": [],
   "source": [
    "import pandas as pd\n",
    "import numpy as np\n",
    "import matplotlib.pyplot as plt\n",
    "from os.path import join"
   ]
  },
  {
   "cell_type": "code",
   "execution_count": 4,
   "id": "7343b9ab-f63c-4b18-8693-60a3e9f98d15",
   "metadata": {},
   "outputs": [],
   "source": [
    "src = '../../data/tweets'\n",
    "dst = '../../plots/politisation'"
   ]
  },
  {
   "cell_type": "code",
   "execution_count": 5,
   "id": "3a445d79-6445-471f-9072-797afc0c482f",
   "metadata": {},
   "outputs": [],
   "source": [
    "IchBinHanna_tweets = pd.read_csv(join(src, 'IchBinHanna.csv'), low_memory=False,\n",
    "                        parse_dates=['created_at'])\n",
    "IchBinHanna_tweets['created_at_date'] = IchBinHanna_tweets['created_at'].dt.date\n",
    "IchBinHanna_tweets = IchBinHanna_tweets[\\\n",
    "        IchBinHanna_tweets['created_at_date'] >= pd.to_datetime('2021-01-01')]"
   ]
  },
  {
   "cell_type": "code",
   "execution_count": 6,
   "id": "21bc5ee3-7a2d-42d1-9494-52da9f50f630",
   "metadata": {},
   "outputs": [],
   "source": [
    "HannaImBundestag_tweets = pd.read_csv(join(src, 'HannaImBundestag.csv'), low_memory=False,\n",
    "                        parse_dates=['created_at'])\n",
    "HannaImBundestag_tweets['created_at_date'] = HannaImBundestag_tweets['created_at'].dt.date\n",
    "HannaImBundestag_tweets = HannaImBundestag_tweets[\\\n",
    "        HannaImBundestag_tweets['created_at_date'] >= pd.to_datetime('2021-01-01')]"
   ]
  },
  {
   "cell_type": "code",
   "execution_count": 7,
   "id": "e8bf2e66-4971-45d6-aa80-64b0278e6f78",
   "metadata": {},
   "outputs": [],
   "source": [
    "hanna_tweets = pd.concat([IchBinHanna_tweets, HannaImBundestag_tweets])\n",
    "hanna_tweets = hanna_tweets.sort_values(by=['created_at'])\n",
    "hanna_tweets = hanna_tweets.reset_index(drop=True)"
   ]
  },
  {
   "cell_type": "code",
   "execution_count": 8,
   "id": "9f7516f8-b1af-4d02-9fa9-44dbaa0cd8b3",
   "metadata": {},
   "outputs": [
    {
     "name": "stdout",
     "output_type": "stream",
     "text": [
      "dropped 4672 out of 67952 tweets, because they were duplicates\n"
     ]
    }
   ],
   "source": [
    "N = len(hanna_tweets)\n",
    "hanna_tweets = hanna_tweets.drop_duplicates(subset=['id'])\n",
    "print('dropped {} out of {} tweets, because they were duplicates'\\\n",
    "         .format(N - len(hanna_tweets), N))"
   ]
  },
  {
   "cell_type": "code",
   "execution_count": 9,
   "id": "cb1bc207-d7f3-4e89-83ce-021e50e7c972",
   "metadata": {},
   "outputs": [
    {
     "name": "stdout",
     "output_type": "stream",
     "text": [
      "#IchBinHanna tweets remaining: 63280\n"
     ]
    }
   ],
   "source": [
    "print('#IchBinHanna tweets remaining: {}'.format(len(hanna_tweets)))"
   ]
  },
  {
   "cell_type": "markdown",
   "id": "cdf5bec6-9d2e-4a90-8ff6-7d4c2f4cd21d",
   "metadata": {},
   "source": [
    "Frequency of hashtags that either mention the Bundestagswahl 2021 or strikes."
   ]
  },
  {
   "cell_type": "code",
   "execution_count": 10,
   "id": "11535a7b-f34c-44eb-a469-dce985613cdf",
   "metadata": {},
   "outputs": [],
   "source": [
    "def extract_hashtags(tagstring):\n",
    "    if tagstring == tagstring:\n",
    "        list_of_dicts = eval(tagstring)\n",
    "        hashtags = []\n",
    "        for dct in list_of_dicts:\n",
    "            tag = dct['tag']\n",
    "            hashtags.append(tag)\n",
    "        return hashtags\n",
    "    else:\n",
    "        return np.nan\n",
    "    \n",
    "def extract_mentions(mentionstring):\n",
    "    if mentionstring == mentionstring:\n",
    "        mentionstring = mentionstring.replace('false', 'False')\n",
    "        mentionstring = mentionstring.replace('true', 'True')\n",
    "        list_of_dicts = eval(mentionstring)\n",
    "        usernames = []\n",
    "        for dct in list_of_dicts:\n",
    "            username = dct['username']\n",
    "            usernames.append(username)\n",
    "        return usernames\n",
    "    else:\n",
    "        return np.nan"
   ]
  },
  {
   "cell_type": "code",
   "execution_count": 11,
   "id": "b842d2d8-3926-4db5-bb43-c47e15349916",
   "metadata": {},
   "outputs": [],
   "source": [
    "pol_tags = {'Bundestagswahl2021', 'bundestagswahl2021', 'BUNDESTAGSWAHL2021',\n",
    "            'BundesTagsWahl2021', 'BTW2021', 'btw2021', 'btw21', 'BTW21',\n",
    "            'Bundestagswahl21', 'bundestagswahl21', 'BUNDESTAGSWAHL21'}\n",
    "strike_tags = {'streik', 'STREIK', 'Streik'}\n",
    "\n",
    "def check_political(taglist):\n",
    "    if taglist == taglist:\n",
    "        if len(pol_tags.intersection(set(taglist))) > 0:\n",
    "            return 1\n",
    "        else:\n",
    "            return 0\n",
    "    else:\n",
    "        return np.nan\n",
    "    \n",
    "def check_strike(taglist):\n",
    "    if taglist == taglist:\n",
    "        if len(strike_tags.intersection(set(taglist))) > 0:\n",
    "            return 1\n",
    "        else:\n",
    "            return 0\n",
    "    else:\n",
    "        return np.nan"
   ]
  },
  {
   "cell_type": "code",
   "execution_count": 12,
   "id": "ed15aa92-07d0-4022-8efe-675164bf4aee",
   "metadata": {},
   "outputs": [],
   "source": [
    "hanna_tweets['hashtags'] = hanna_tweets['entities.hashtags'].apply(extract_hashtags)\n",
    "\n",
    "hanna_tweets['mention_usernames'] = hanna_tweets['entities.mentions']\\\n",
    "        .apply(extract_mentions)"
   ]
  },
  {
   "cell_type": "code",
   "execution_count": 13,
   "id": "f6805056-31b2-4b0b-8c3b-a4b7be8a9ffb",
   "metadata": {},
   "outputs": [],
   "source": [
    "hanna_tweets['political'] = hanna_tweets['hashtags'].apply(check_political)\n",
    "hanna_tweets['strike'] = hanna_tweets['hashtags'].apply(check_strike)"
   ]
  },
  {
   "cell_type": "code",
   "execution_count": 14,
   "id": "fe0dc277-ed24-455c-a6aa-99263be29bf5",
   "metadata": {},
   "outputs": [
    {
     "data": {
      "text/html": [
       "<div>\n",
       "<style scoped>\n",
       "    .dataframe tbody tr th:only-of-type {\n",
       "        vertical-align: middle;\n",
       "    }\n",
       "\n",
       "    .dataframe tbody tr th {\n",
       "        vertical-align: top;\n",
       "    }\n",
       "\n",
       "    .dataframe thead th {\n",
       "        text-align: right;\n",
       "    }\n",
       "</style>\n",
       "<table border=\"1\" class=\"dataframe\">\n",
       "  <thead>\n",
       "    <tr style=\"text-align: right;\">\n",
       "      <th></th>\n",
       "      <th>created_at_date</th>\n",
       "      <th>political</th>\n",
       "      <th>strike</th>\n",
       "      <th>tweet_count</th>\n",
       "    </tr>\n",
       "  </thead>\n",
       "  <tbody>\n",
       "    <tr>\n",
       "      <th>0</th>\n",
       "      <td>2021-01-09</td>\n",
       "      <td>0.0</td>\n",
       "      <td>0.0</td>\n",
       "      <td>1</td>\n",
       "    </tr>\n",
       "    <tr>\n",
       "      <th>1</th>\n",
       "      <td>2021-01-11</td>\n",
       "      <td>0.0</td>\n",
       "      <td>0.0</td>\n",
       "      <td>1</td>\n",
       "    </tr>\n",
       "    <tr>\n",
       "      <th>2</th>\n",
       "      <td>2021-01-13</td>\n",
       "      <td>0.0</td>\n",
       "      <td>0.0</td>\n",
       "      <td>1</td>\n",
       "    </tr>\n",
       "  </tbody>\n",
       "</table>\n",
       "</div>"
      ],
      "text/plain": [
       "  created_at_date  political  strike  tweet_count\n",
       "0      2021-01-09        0.0     0.0            1\n",
       "1      2021-01-11        0.0     0.0            1\n",
       "2      2021-01-13        0.0     0.0            1"
      ]
     },
     "execution_count": 14,
     "metadata": {},
     "output_type": "execute_result"
    }
   ],
   "source": [
    "hanna_pol = hanna_tweets[['created_at_date', 'political', 'strike', 'id']]\\\n",
    "    .groupby('created_at_date')\\\n",
    "    .agg({'political':'sum', 'strike':'sum', 'id':'count'})\\\n",
    "    .reset_index()\\\n",
    "    .sort_values(by=['created_at_date'])\\\n",
    "    .reset_index(drop=True)\\\n",
    "    .rename(columns={'id':'tweet_count'})\n",
    "hanna_pol.head(3)"
   ]
  },
  {
   "cell_type": "code",
   "execution_count": 16,
   "id": "3b3d6056-2143-4c5b-99ab-f3c1d56a0ddc",
   "metadata": {},
   "outputs": [
    {
     "data": {
      "image/png": "[encoded data removed]",
      "text/plain": [
       "<Figure size 720x360 with 1 Axes>"
      ]
     },
     "metadata": {
      "needs_background": "light"
     },
     "output_type": "display_data"
    }
   ],
   "source": [
    "fig, ax = plt.subplots(figsize=(10, 5))\n",
    "\n",
    "ymax = 3\n",
    "\n",
    "hanna_pol['pol_ratio'] = hanna_pol['political'] / hanna_pol['tweet_count'] * 100\n",
    "hanna_pol['strike_ratio'] = hanna_pol['strike'] / hanna_pol['tweet_count'] * 100\n",
    "\n",
    "ax.plot(hanna_pol['created_at_date'], hanna_pol['pol_ratio'],\n",
    "        label='Bundestagswahl', color='k', lw=5)\n",
    "ax.plot(hanna_pol['created_at_date'], hanna_pol['strike_ratio'],\n",
    "        label='Streik', color='r', lw=5)\n",
    "\n",
    "ax.legend(loc=2, fontsize=20)\n",
    "\n",
    "# note: need to shift debate date by one day due to how counts are assigned to \n",
    "# days by the Twitter API\n",
    "debate_date = pd.to_datetime('2021-06-23')\n",
    "ax.plot([debate_date, debate_date], [0, ymax], '--', color='grey', lw=3)\n",
    "ax.text(pd.to_datetime('2021-06-18'), 2.5, 'Aktuelle Stunde\\nim Bundestag',\n",
    "        fontsize=19, color='grey')\n",
    "\n",
    "dateticks = ['2021-06-09', '2021-06-13', '2021-06-17', '2021-06-21',\n",
    "             '2021-06-25']\n",
    "ax.set_xticks([pd.to_datetime(tick) for tick in dateticks])\n",
    "ax.tick_params(axis='y', labelsize=14)\n",
    "ax.tick_params(axis='x', labelsize=14)\n",
    "\n",
    "ax.spines['right'].set_visible(False)\n",
    "ax.spines['top'].set_visible(False)\n",
    "\n",
    "ax.set_xlim(pd.to_datetime('2021-06-09'), pd.to_datetime('2021-06-27'))\n",
    "ax.set_ylim(0, 3)\n",
    "ax.set_ylabel('Anteil an Hanna-Tweets [%]', fontsize=20)\n",
    "\n",
    "plt.savefig(join(dst, 'frequency_of_political_tweets.pdf'))\n",
    "plt.savefig(join(dst, 'frequency_of_political_tweets.png'), dpi=300)"
   ]
  }
 ],
 "metadata": {
  "kernelspec": {
   "display_name": "Python 3",
   "language": "python",
   "name": "python3"
  },
  "language_info": {
   "codemirror_mode": {
    "name": "ipython",
    "version": 3
   },
   "file_extension": ".py",
   "mimetype": "text/x-python",
   "name": "python",
   "nbconvert_exporter": "python",
   "pygments_lexer": "ipython3",
   "version": "3.9.5"
  }
 },
 "nbformat": 4,
 "nbformat_minor": 5
}
