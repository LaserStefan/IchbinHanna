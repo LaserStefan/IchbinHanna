{
 "cells": [
  {
   "cell_type": "code",
   "execution_count": 1,
   "metadata": {
    "scrolled": true
   },
   "outputs": [],
   "source": [
    "import numpy as np\n",
    "import matplotlib.pyplot as plt\n",
    "from retweet_ratio import tweet_ratios_rel"
   ]
  },
  {
   "cell_type": "markdown",
   "metadata": {},
   "source": [
    "## Get absolute and relative numbers on tweet types for files"
   ]
  },
  {
   "cell_type": "code",
   "execution_count": 12,
   "metadata": {},
   "outputs": [
    {
     "name": "stdout",
     "output_type": "stream",
     "text": [
      "\n",
      "\n",
      "Absolute values\n",
      "path: 95vsWissZeitVG.jsonl.xz\n",
      "all_tweets: 13726\n",
      "retweets: 11327\n",
      "quotes: 1047\n",
      "replies: 529\n",
      "new_tweets: 823\n",
      "\n",
      "\n",
      "Relative values\n",
      "path: 95vsWissZeitVG.jsonl.xz\n",
      "abolute_tweets: 13726\n",
      "retweets: 82.52222060323474\n",
      "quotes: 7.627859536645781\n",
      "replies: 3.853999708582253\n",
      "new_tweets: 5.995920151537228\n",
      "\n",
      "\n",
      "\n",
      "\n",
      "Absolute values\n",
      "path: IchBinHanna.jsonl.xz\n",
      "all_tweets: 38762\n",
      "retweets: 30846\n",
      "quotes: 2100\n",
      "replies: 1897\n",
      "new_tweets: 3919\n",
      "\n",
      "\n",
      "Relative values\n",
      "path: IchBinHanna.jsonl.xz\n",
      "abolute_tweets: 38762\n",
      "retweets: 79.57793715494557\n",
      "quotes: 5.417677106444456\n",
      "replies: 4.893968319488159\n",
      "new_tweets: 10.11041741912182\n",
      "\n",
      "\n"
     ]
    }
   ],
   "source": [
    "#Run retweet_ration script in shell order to get the numbers\n",
    "!python3 retweet_ratio.py 95vsWissZeitVG.jsonl.xz\n",
    "!python3 retweet_ratio.py IchBinHanna.jsonl.xz"
   ]
  },
  {
   "cell_type": "markdown",
   "metadata": {},
   "source": [
    "## create, save, and print bar plots to compare tweet types"
   ]
  },
  {
   "cell_type": "code",
   "execution_count": 9,
   "metadata": {},
   "outputs": [],
   "source": [
    "# Get frequencies’ dictionaries for files from retweet_ratio\n",
    "corpus1_dict = dict()\n",
    "corpus1_dict = tweet_ratios_rel(\"95vsWissZeitVG.jsonl.xz\")\n",
    "corpus2_dict = dict()\n",
    "corpus2_dict = tweet_ratios_rel(\"IchBinHanna.jsonl.xz\")"
   ]
  },
  {
   "cell_type": "code",
   "execution_count": 10,
   "metadata": {},
   "outputs": [],
   "source": [
    "# Data from dictionaries to arrays for diagram\n",
    "data_new_tweets = [corpus1_dict[\"new_tweets\"], corpus2_dict[\"new_tweets\"]]\n",
    "data_replies = [corpus1_dict[\"replies\"], corpus2_dict[\"replies\"]]\n",
    "data_quotes = [corpus1_dict[\"quotes\"], corpus2_dict[\"quotes\"]]\n",
    "data_retweets = [corpus1_dict[\"retweets\"], corpus2_dict[\"retweets\"]]"
   ]
  },
  {
   "cell_type": "code",
   "execution_count": 7,
   "metadata": {},
   "outputs": [
    {
     "data": {
      "image/png": "[encoded data removed]",
      "text/plain": [
       "<Figure size 648x504 with 1 Axes>"
      ]
     },
     "metadata": {
      "needs_background": "light"
     },
     "output_type": "display_data"
    }
   ],
   "source": [
    "# Define lables for diagrams\n",
    "\n",
    "# plt.title(\"Distribution of new tweets, replies, quotes and retweets in #95vsWissZeitVG & #IchBinHanna\")\n",
    "corpus_labels = [\"#95vsWissZeitVG\", \"#IchBinHanna\"]\n",
    "\n",
    "plt.figure(figsize=(9,7))\n",
    "plt.bar(corpus_labels, data_retweets, color=\"#6ba7b1\", label=\"retweets\")\n",
    "plt.bar(corpus_labels, data_quotes, color=\"#756bb1\", bottom=np.array(data_retweets), label=\"quotes\")\n",
    "plt.bar(corpus_labels, data_replies, color=\"#b1756b\", bottom=np.array(data_retweets)+np.array(data_quotes), label=\"replies\")\n",
    "plt.bar(corpus_labels, data_new_tweets, color=\"#a7b16b\", bottom=np.array(data_retweets)+np.array(data_quotes)+np.array(data_replies), label=\"new tweets\")\n",
    "# color scheme: https://www.colorhexa.com/756bb1 based on Stefan’s piecharts: https://github.com/LaserSteff/-IchbinHanna/blob/main/code/piechart.py\n",
    "\n",
    "plt.legend(loc=\"lower left\", bbox_to_anchor=(0.8,1.0))\n",
    "plt.savefig('./compare-tweet-types.png', dpi=300)\n",
    "plt.show()"
   ]
  }
 ],
 "metadata": {
  "kernelspec": {
   "display_name": "twarc-venc",
   "language": "python",
   "name": "twarc-venc"
  },
  "language_info": {
   "codemirror_mode": {
    "name": "ipython",
    "version": 3
   },
   "file_extension": ".py",
   "mimetype": "text/x-python",
   "name": "python",
   "nbconvert_exporter": "python",
   "pygments_lexer": "ipython3",
   "version": "3.9.4"
  }
 },
 "nbformat": 4,
 "nbformat_minor": 4
}
