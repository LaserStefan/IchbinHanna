{
 "cells": [
  {
   "cell_type": "markdown",
   "id": "b62c54c9-0335-42f7-8e78-ed995887bad6",
   "metadata": {},
   "source": [
    "## Analyse the frequency of mentions of unions in the context of #IchBinHanna Tweets"
   ]
  },
  {
   "cell_type": "markdown",
   "id": "c9f5a11a-ef04-4d8b-8e8f-18228a1eb0ac",
   "metadata": {},
   "source": [
    "Frequency of mentions or hashtags that refer to the two large relevant unions GEW and ver.di."
   ]
  },
  {
   "cell_type": "code",
   "execution_count": 1,
   "id": "48e9cbe8-19a5-4d1e-b676-aba979656642",
   "metadata": {},
   "outputs": [],
   "source": [
    "import pandas as pd\n",
    "import numpy as np\n",
    "import matplotlib.pyplot as plt\n",
    "from os.path import join"
   ]
  },
  {
   "cell_type": "code",
   "execution_count": 2,
   "id": "86461df8-5c85-4835-9414-fca25d1f2c3f",
   "metadata": {},
   "outputs": [],
   "source": [
    "src = '../../data/tweets'\n",
    "dst = '../../plots/unions'"
   ]
  },
  {
   "cell_type": "code",
   "execution_count": 3,
   "id": "d7e2f0b1-eba7-4ef7-a677-c3ed5a5419ca",
   "metadata": {},
   "outputs": [],
   "source": [
    "IchBinHanna_tweets = pd.read_csv(join(src, 'IchBinHanna.csv'), low_memory=False,\n",
    "                        parse_dates=['created_at'])\n",
    "IchBinHanna_tweets['created_at_date'] = IchBinHanna_tweets['created_at'].dt.date\n",
    "IchBinHanna_tweets = IchBinHanna_tweets[\\\n",
    "        IchBinHanna_tweets['created_at_date'] >= pd.to_datetime('2021-01-01')]"
   ]
  },
  {
   "cell_type": "code",
   "execution_count": 4,
   "id": "904c9d30-dd3a-48ba-9e1a-652a334716f2",
   "metadata": {},
   "outputs": [],
   "source": [
    "HannaImBundestag_tweets = pd.read_csv(join(src, 'HannaImBundestag.csv'), low_memory=False,\n",
    "                        parse_dates=['created_at'])\n",
    "HannaImBundestag_tweets['created_at_date'] = HannaImBundestag_tweets['created_at'].dt.date\n",
    "HannaImBundestag_tweets = HannaImBundestag_tweets[\\\n",
    "        HannaImBundestag_tweets['created_at_date'] >= pd.to_datetime('2021-01-01')]"
   ]
  },
  {
   "cell_type": "code",
   "execution_count": 5,
   "id": "b936c48f-45da-4818-a893-2c06b604599e",
   "metadata": {},
   "outputs": [],
   "source": [
    "hanna_tweets = pd.concat([IchBinHanna_tweets, HannaImBundestag_tweets])\n",
    "hanna_tweets = hanna_tweets.sort_values(by=['created_at'])\n",
    "hanna_tweets = hanna_tweets.reset_index(drop=True)"
   ]
  },
  {
   "cell_type": "code",
   "execution_count": 6,
   "id": "ed0bb184-67a2-4960-9987-31f4d1b946dc",
   "metadata": {},
   "outputs": [
    {
     "name": "stdout",
     "output_type": "stream",
     "text": [
      "dropped 4775 out of 70301 tweets, because they were duplicates\n"
     ]
    }
   ],
   "source": [
    "N = len(hanna_tweets)\n",
    "hanna_tweets = hanna_tweets.drop_duplicates(subset=['id'])\n",
    "print('dropped {} out of {} tweets, because they were duplicates'\\\n",
    "         .format(N - len(hanna_tweets), N))"
   ]
  },
  {
   "cell_type": "code",
   "execution_count": 7,
   "id": "55a40eab-cce6-4b18-9b47-f68b6c01d285",
   "metadata": {},
   "outputs": [
    {
     "name": "stdout",
     "output_type": "stream",
     "text": [
      "#IchBinHanna tweets remaining: 65526\n"
     ]
    }
   ],
   "source": [
    "print('#IchBinHanna tweets remaining: {}'.format(len(hanna_tweets)))"
   ]
  },
  {
   "cell_type": "markdown",
   "id": "6b2173e0-a420-4171-9408-99a3b75a1a87",
   "metadata": {},
   "source": [
    "Frequency of hashtags that either mention the Bundestagswahl 2021 or strikes."
   ]
  },
  {
   "cell_type": "code",
   "execution_count": 8,
   "id": "482d94f4-b109-47a2-984f-4a295f3b873f",
   "metadata": {},
   "outputs": [],
   "source": [
    "def extract_hashtags(tagstring):\n",
    "    if tagstring == tagstring:\n",
    "        list_of_dicts = eval(tagstring)\n",
    "        hashtags = []\n",
    "        for dct in list_of_dicts:\n",
    "            tag = dct['tag']\n",
    "            hashtags.append(tag)\n",
    "        return hashtags\n",
    "    else:\n",
    "        return np.nan\n",
    "    \n",
    "def extract_mentions(mentionstring):\n",
    "    if mentionstring == mentionstring:\n",
    "        mentionstring = mentionstring.replace('false', 'False')\n",
    "        mentionstring = mentionstring.replace('true', 'True')\n",
    "        list_of_dicts = eval(mentionstring)\n",
    "        usernames = []\n",
    "        for dct in list_of_dicts:\n",
    "            username = dct['username']\n",
    "            usernames.append(username)\n",
    "        return usernames\n",
    "    else:\n",
    "        return np.nan"
   ]
  },
  {
   "cell_type": "code",
   "execution_count": 9,
   "id": "555ab0e4-3e7f-4d53-8dc6-6d347f9227f0",
   "metadata": {},
   "outputs": [],
   "source": [
    "union_accounts = {'gew_bund', 'GEW_BERLIN', 'GEW_BW_Presse', 'GewerkschaftGEW',\n",
    "                  'GEWStudis', 'GEWSachsen', 'jungegew_berlin', 'GEW_NRW', '_verdi', 'verdi_OeD_SAT', 'verdi_Jugend',\n",
    "                  'verdi_Westfalen', 'verdinrw'}\n",
    "union_hashtags = {'GEW', 'gew', 'ver.di', 'verdi', 'gewerkschaft', 'Gewerkschaft'}\n",
    "\n",
    "def check_union(row):\n",
    "\n",
    "    hashtags = row['hashtags']\n",
    "    mentions = row['mention_usernames']\n",
    "    \n",
    "    \n",
    "    if (hashtags == hashtags and len(union_hashtags.intersection(set(hashtags))) > 0):\n",
    "        return 1\n",
    "    elif (mentions == mentions and len(union_accounts.intersection(set(mentions))) > 0):\n",
    "        return 1\n",
    "    else:\n",
    "        return 0"
   ]
  },
  {
   "cell_type": "code",
   "execution_count": 10,
   "id": "1aba8824-07d0-4674-8cbf-e72d49565b3e",
   "metadata": {},
   "outputs": [],
   "source": [
    "hanna_tweets['hashtags'] = hanna_tweets['entities.hashtags'].apply(extract_hashtags)\n",
    "\n",
    "hanna_tweets['mention_usernames'] = hanna_tweets['entities.mentions']\\\n",
    "        .apply(extract_mentions)"
   ]
  },
  {
   "cell_type": "code",
   "execution_count": 11,
   "id": "6e2f4c61-1e1c-4229-93cd-796e1f793512",
   "metadata": {},
   "outputs": [],
   "source": [
    "hanna_tweets['union'] = hanna_tweets[['hashtags', 'mention_usernames']]\\\n",
    "    .apply(check_union, axis=1)"
   ]
  },
  {
   "cell_type": "code",
   "execution_count": 12,
   "id": "93290170-6077-4b2f-a3b8-808bcf03a257",
   "metadata": {},
   "outputs": [
    {
     "data": {
      "text/html": [
       "<div>\n",
       "<style scoped>\n",
       "    .dataframe tbody tr th:only-of-type {\n",
       "        vertical-align: middle;\n",
       "    }\n",
       "\n",
       "    .dataframe tbody tr th {\n",
       "        vertical-align: top;\n",
       "    }\n",
       "\n",
       "    .dataframe thead th {\n",
       "        text-align: right;\n",
       "    }\n",
       "</style>\n",
       "<table border=\"1\" class=\"dataframe\">\n",
       "  <thead>\n",
       "    <tr style=\"text-align: right;\">\n",
       "      <th></th>\n",
       "      <th>created_at_date</th>\n",
       "      <th>union</th>\n",
       "      <th>tweet_count</th>\n",
       "    </tr>\n",
       "  </thead>\n",
       "  <tbody>\n",
       "    <tr>\n",
       "      <th>0</th>\n",
       "      <td>2021-01-09</td>\n",
       "      <td>0</td>\n",
       "      <td>1</td>\n",
       "    </tr>\n",
       "    <tr>\n",
       "      <th>1</th>\n",
       "      <td>2021-01-11</td>\n",
       "      <td>0</td>\n",
       "      <td>1</td>\n",
       "    </tr>\n",
       "    <tr>\n",
       "      <th>2</th>\n",
       "      <td>2021-01-13</td>\n",
       "      <td>0</td>\n",
       "      <td>1</td>\n",
       "    </tr>\n",
       "  </tbody>\n",
       "</table>\n",
       "</div>"
      ],
      "text/plain": [
       "  created_at_date  union  tweet_count\n",
       "0      2021-01-09      0            1\n",
       "1      2021-01-11      0            1\n",
       "2      2021-01-13      0            1"
      ]
     },
     "execution_count": 12,
     "metadata": {},
     "output_type": "execute_result"
    }
   ],
   "source": [
    "hanna_union = hanna_tweets[['created_at_date', 'union', 'id']]\\\n",
    "    .groupby('created_at_date')\\\n",
    "    .agg({'union':'sum', 'id':'count'})\\\n",
    "    .reset_index()\\\n",
    "    .sort_values(by=['created_at_date'])\\\n",
    "    .reset_index(drop=True)\\\n",
    "    .rename(columns={'id':'tweet_count'})\n",
    "hanna_union.head(3)"
   ]
  },
  {
   "cell_type": "code",
   "execution_count": 13,
   "id": "1c871a22-32c6-4612-8913-c30c857d5540",
   "metadata": {},
   "outputs": [
    {
     "data": {
      "image/png": "[encoded data removed]",
      "text/plain": [
       "<Figure size 720x360 with 1 Axes>"
      ]
     },
     "metadata": {
      "needs_background": "light"
     },
     "output_type": "display_data"
    }
   ],
   "source": [
    "fig, ax = plt.subplots(figsize=(10, 5))\n",
    "\n",
    "ymax = 6\n",
    "\n",
    "hanna_union['union_ratio'] = hanna_union['union'] / hanna_union['tweet_count'] * 100\n",
    "\n",
    "ax.plot(hanna_union['created_at_date'], hanna_union['union_ratio'],\n",
    "        label='GEW & ver.di', color='DarkGreen', lw=5)\n",
    "\n",
    "ax.legend(loc=2, fontsize=20)\n",
    "\n",
    "# note: need to shift debate date by one day due to how counts are assigned to \n",
    "# days by the Twitter API\n",
    "debate_date = pd.to_datetime('2021-06-23')\n",
    "ax.plot([debate_date, debate_date], [0, ymax], '--', color='grey', lw=3)\n",
    "ax.text(pd.to_datetime('2021-06-18'), 5, 'Aktuelle Stunde\\nim Bundestag',\n",
    "        fontsize=19, color='grey')\n",
    "\n",
    "dateticks = ['2021-06-09', '2021-06-13', '2021-06-17', '2021-06-21',\n",
    "             '2021-06-25']\n",
    "ax.set_xticks([pd.to_datetime(tick) for tick in dateticks])\n",
    "ax.tick_params(axis='y', labelsize=14)\n",
    "ax.tick_params(axis='x', labelsize=14)\n",
    "\n",
    "ax.spines['right'].set_visible(False)\n",
    "ax.spines['top'].set_visible(False)\n",
    "\n",
    "ax.set_xlim(pd.to_datetime('2021-06-09'), pd.to_datetime('2021-06-27'))\n",
    "ax.set_ylim(0, ymax)\n",
    "ax.set_ylabel('Anteil an Hanna-Tweets [%]', fontsize=20)\n",
    "\n",
    "plt.savefig(join(dst, 'frequency_of_union_mentions.pdf'))\n",
    "plt.savefig(join(dst, 'frequency_of_union_mentions.svg'))\n",
    "plt.savefig(join(dst, 'frequency_of_union_mentions.png'), dpi=300)"
   ]
  }
 ],
 "metadata": {
  "kernelspec": {
   "display_name": "Python 3",
   "language": "python",
   "name": "python3"
  },
  "language_info": {
   "codemirror_mode": {
    "name": "ipython",
    "version": 3
   },
   "file_extension": ".py",
   "mimetype": "text/x-python",
   "name": "python",
   "nbconvert_exporter": "python",
   "pygments_lexer": "ipython3",
   "version": "3.9.5"
  }
 },
 "nbformat": 4,
 "nbformat_minor": 5
}
